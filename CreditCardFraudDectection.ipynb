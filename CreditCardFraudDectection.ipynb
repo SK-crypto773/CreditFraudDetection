{
  "nbformat": 4,
  "nbformat_minor": 0,
  "metadata": {
    "colab": {
      "name": "CreditCardFraudDectection.ipynb",
      "provenance": []
    },
    "kernelspec": {
      "name": "python3",
      "display_name": "Python 3"
    }
  },
  "cells": [
    {
      "cell_type": "markdown",
      "metadata": {
        "id": "0DKeuRh4OYrQ",
        "colab_type": "text"
      },
      "source": [
        "Credit Card Fraud Detection using CNN\n"
      ]
    },
    {
      "cell_type": "code",
      "metadata": {
        "id": "OJWVvuXLLNlW",
        "colab_type": "code",
        "colab": {}
      },
      "source": [
        "import tensorflow as tf\n",
        "from tensorflow import keras\n",
        "from tensorflow.keras import Sequential\n",
        "from tensorflow.keras.layers import Flatten, Dense, Dropout, BatchNormalization\n",
        "from tensorflow.keras.layers import Conv1D, MaxPool1D\n",
        "from tensorflow.keras.optimizers import Adam"
      ],
      "execution_count": 50,
      "outputs": []
    },
    {
      "cell_type": "code",
      "metadata": {
        "id": "CjU7Pq7HN6-G",
        "colab_type": "code",
        "colab": {}
      },
      "source": [
        "import pandas as pd\n",
        "import numpy as np\n",
        "import seaborn as sns\n",
        "import matplotlib.pyplot as plt\n",
        "from sklearn.model_selection import train_test_split\n",
        "from sklearn.preprocessing import StandardScaler"
      ],
      "execution_count": 29,
      "outputs": []
    },
    {
      "cell_type": "code",
      "metadata": {
        "id": "O5rBEVZEOSxf",
        "colab_type": "code",
        "colab": {
          "base_uri": "https://localhost:8080/",
          "height": 224
        },
        "outputId": "7df7f4c4-ff33-4444-f274-788ed43f831d"
      },
      "source": [
        "data = pd.read_csv('creditcard.csv')\n",
        "data.head()"
      ],
      "execution_count": 30,
      "outputs": [
        {
          "output_type": "execute_result",
          "data": {
            "text/html": [
              "<div>\n",
              "<style scoped>\n",
              "    .dataframe tbody tr th:only-of-type {\n",
              "        vertical-align: middle;\n",
              "    }\n",
              "\n",
              "    .dataframe tbody tr th {\n",
              "        vertical-align: top;\n",
              "    }\n",
              "\n",
              "    .dataframe thead th {\n",
              "        text-align: right;\n",
              "    }\n",
              "</style>\n",
              "<table border=\"1\" class=\"dataframe\">\n",
              "  <thead>\n",
              "    <tr style=\"text-align: right;\">\n",
              "      <th></th>\n",
              "      <th>Time</th>\n",
              "      <th>V1</th>\n",
              "      <th>V2</th>\n",
              "      <th>V3</th>\n",
              "      <th>V4</th>\n",
              "      <th>V5</th>\n",
              "      <th>V6</th>\n",
              "      <th>V7</th>\n",
              "      <th>V8</th>\n",
              "      <th>V9</th>\n",
              "      <th>V10</th>\n",
              "      <th>V11</th>\n",
              "      <th>V12</th>\n",
              "      <th>V13</th>\n",
              "      <th>V14</th>\n",
              "      <th>V15</th>\n",
              "      <th>V16</th>\n",
              "      <th>V17</th>\n",
              "      <th>V18</th>\n",
              "      <th>V19</th>\n",
              "      <th>V20</th>\n",
              "      <th>V21</th>\n",
              "      <th>V22</th>\n",
              "      <th>V23</th>\n",
              "      <th>V24</th>\n",
              "      <th>V25</th>\n",
              "      <th>V26</th>\n",
              "      <th>V27</th>\n",
              "      <th>V28</th>\n",
              "      <th>Amount</th>\n",
              "      <th>Class</th>\n",
              "    </tr>\n",
              "  </thead>\n",
              "  <tbody>\n",
              "    <tr>\n",
              "      <th>0</th>\n",
              "      <td>0.0</td>\n",
              "      <td>-1.359807</td>\n",
              "      <td>-0.072781</td>\n",
              "      <td>2.536347</td>\n",
              "      <td>1.378155</td>\n",
              "      <td>-0.338321</td>\n",
              "      <td>0.462388</td>\n",
              "      <td>0.239599</td>\n",
              "      <td>0.098698</td>\n",
              "      <td>0.363787</td>\n",
              "      <td>0.090794</td>\n",
              "      <td>-0.551600</td>\n",
              "      <td>-0.617801</td>\n",
              "      <td>-0.991390</td>\n",
              "      <td>-0.311169</td>\n",
              "      <td>1.468177</td>\n",
              "      <td>-0.470401</td>\n",
              "      <td>0.207971</td>\n",
              "      <td>0.025791</td>\n",
              "      <td>0.403993</td>\n",
              "      <td>0.251412</td>\n",
              "      <td>-0.018307</td>\n",
              "      <td>0.277838</td>\n",
              "      <td>-0.110474</td>\n",
              "      <td>0.066928</td>\n",
              "      <td>0.128539</td>\n",
              "      <td>-0.189115</td>\n",
              "      <td>0.133558</td>\n",
              "      <td>-0.021053</td>\n",
              "      <td>149.62</td>\n",
              "      <td>0</td>\n",
              "    </tr>\n",
              "    <tr>\n",
              "      <th>1</th>\n",
              "      <td>0.0</td>\n",
              "      <td>1.191857</td>\n",
              "      <td>0.266151</td>\n",
              "      <td>0.166480</td>\n",
              "      <td>0.448154</td>\n",
              "      <td>0.060018</td>\n",
              "      <td>-0.082361</td>\n",
              "      <td>-0.078803</td>\n",
              "      <td>0.085102</td>\n",
              "      <td>-0.255425</td>\n",
              "      <td>-0.166974</td>\n",
              "      <td>1.612727</td>\n",
              "      <td>1.065235</td>\n",
              "      <td>0.489095</td>\n",
              "      <td>-0.143772</td>\n",
              "      <td>0.635558</td>\n",
              "      <td>0.463917</td>\n",
              "      <td>-0.114805</td>\n",
              "      <td>-0.183361</td>\n",
              "      <td>-0.145783</td>\n",
              "      <td>-0.069083</td>\n",
              "      <td>-0.225775</td>\n",
              "      <td>-0.638672</td>\n",
              "      <td>0.101288</td>\n",
              "      <td>-0.339846</td>\n",
              "      <td>0.167170</td>\n",
              "      <td>0.125895</td>\n",
              "      <td>-0.008983</td>\n",
              "      <td>0.014724</td>\n",
              "      <td>2.69</td>\n",
              "      <td>0</td>\n",
              "    </tr>\n",
              "    <tr>\n",
              "      <th>2</th>\n",
              "      <td>1.0</td>\n",
              "      <td>-1.358354</td>\n",
              "      <td>-1.340163</td>\n",
              "      <td>1.773209</td>\n",
              "      <td>0.379780</td>\n",
              "      <td>-0.503198</td>\n",
              "      <td>1.800499</td>\n",
              "      <td>0.791461</td>\n",
              "      <td>0.247676</td>\n",
              "      <td>-1.514654</td>\n",
              "      <td>0.207643</td>\n",
              "      <td>0.624501</td>\n",
              "      <td>0.066084</td>\n",
              "      <td>0.717293</td>\n",
              "      <td>-0.165946</td>\n",
              "      <td>2.345865</td>\n",
              "      <td>-2.890083</td>\n",
              "      <td>1.109969</td>\n",
              "      <td>-0.121359</td>\n",
              "      <td>-2.261857</td>\n",
              "      <td>0.524980</td>\n",
              "      <td>0.247998</td>\n",
              "      <td>0.771679</td>\n",
              "      <td>0.909412</td>\n",
              "      <td>-0.689281</td>\n",
              "      <td>-0.327642</td>\n",
              "      <td>-0.139097</td>\n",
              "      <td>-0.055353</td>\n",
              "      <td>-0.059752</td>\n",
              "      <td>378.66</td>\n",
              "      <td>0</td>\n",
              "    </tr>\n",
              "    <tr>\n",
              "      <th>3</th>\n",
              "      <td>1.0</td>\n",
              "      <td>-0.966272</td>\n",
              "      <td>-0.185226</td>\n",
              "      <td>1.792993</td>\n",
              "      <td>-0.863291</td>\n",
              "      <td>-0.010309</td>\n",
              "      <td>1.247203</td>\n",
              "      <td>0.237609</td>\n",
              "      <td>0.377436</td>\n",
              "      <td>-1.387024</td>\n",
              "      <td>-0.054952</td>\n",
              "      <td>-0.226487</td>\n",
              "      <td>0.178228</td>\n",
              "      <td>0.507757</td>\n",
              "      <td>-0.287924</td>\n",
              "      <td>-0.631418</td>\n",
              "      <td>-1.059647</td>\n",
              "      <td>-0.684093</td>\n",
              "      <td>1.965775</td>\n",
              "      <td>-1.232622</td>\n",
              "      <td>-0.208038</td>\n",
              "      <td>-0.108300</td>\n",
              "      <td>0.005274</td>\n",
              "      <td>-0.190321</td>\n",
              "      <td>-1.175575</td>\n",
              "      <td>0.647376</td>\n",
              "      <td>-0.221929</td>\n",
              "      <td>0.062723</td>\n",
              "      <td>0.061458</td>\n",
              "      <td>123.50</td>\n",
              "      <td>0</td>\n",
              "    </tr>\n",
              "    <tr>\n",
              "      <th>4</th>\n",
              "      <td>2.0</td>\n",
              "      <td>-1.158233</td>\n",
              "      <td>0.877737</td>\n",
              "      <td>1.548718</td>\n",
              "      <td>0.403034</td>\n",
              "      <td>-0.407193</td>\n",
              "      <td>0.095921</td>\n",
              "      <td>0.592941</td>\n",
              "      <td>-0.270533</td>\n",
              "      <td>0.817739</td>\n",
              "      <td>0.753074</td>\n",
              "      <td>-0.822843</td>\n",
              "      <td>0.538196</td>\n",
              "      <td>1.345852</td>\n",
              "      <td>-1.119670</td>\n",
              "      <td>0.175121</td>\n",
              "      <td>-0.451449</td>\n",
              "      <td>-0.237033</td>\n",
              "      <td>-0.038195</td>\n",
              "      <td>0.803487</td>\n",
              "      <td>0.408542</td>\n",
              "      <td>-0.009431</td>\n",
              "      <td>0.798278</td>\n",
              "      <td>-0.137458</td>\n",
              "      <td>0.141267</td>\n",
              "      <td>-0.206010</td>\n",
              "      <td>0.502292</td>\n",
              "      <td>0.219422</td>\n",
              "      <td>0.215153</td>\n",
              "      <td>69.99</td>\n",
              "      <td>0</td>\n",
              "    </tr>\n",
              "  </tbody>\n",
              "</table>\n",
              "</div>"
            ],
            "text/plain": [
              "   Time        V1        V2        V3  ...       V27       V28  Amount  Class\n",
              "0   0.0 -1.359807 -0.072781  2.536347  ...  0.133558 -0.021053  149.62      0\n",
              "1   0.0  1.191857  0.266151  0.166480  ... -0.008983  0.014724    2.69      0\n",
              "2   1.0 -1.358354 -1.340163  1.773209  ... -0.055353 -0.059752  378.66      0\n",
              "3   1.0 -0.966272 -0.185226  1.792993  ...  0.062723  0.061458  123.50      0\n",
              "4   2.0 -1.158233  0.877737  1.548718  ...  0.219422  0.215153   69.99      0\n",
              "\n",
              "[5 rows x 31 columns]"
            ]
          },
          "metadata": {
            "tags": []
          },
          "execution_count": 30
        }
      ]
    },
    {
      "cell_type": "code",
      "metadata": {
        "id": "3bAIgPY1Q4y6",
        "colab_type": "code",
        "colab": {
          "base_uri": "https://localhost:8080/",
          "height": 34
        },
        "outputId": "57ee69a7-c7d6-438e-a8cf-d57579fdf3b4"
      },
      "source": [
        "data.shape"
      ],
      "execution_count": 31,
      "outputs": [
        {
          "output_type": "execute_result",
          "data": {
            "text/plain": [
              "(284807, 31)"
            ]
          },
          "metadata": {
            "tags": []
          },
          "execution_count": 31
        }
      ]
    },
    {
      "cell_type": "code",
      "metadata": {
        "id": "zkqlGvg4REtQ",
        "colab_type": "code",
        "colab": {
          "base_uri": "https://localhost:8080/",
          "height": 561
        },
        "outputId": "b370a855-3fcf-4eed-bbbb-7d952f015291"
      },
      "source": [
        "data.isnull().sum()"
      ],
      "execution_count": 32,
      "outputs": [
        {
          "output_type": "execute_result",
          "data": {
            "text/plain": [
              "Time      0\n",
              "V1        0\n",
              "V2        0\n",
              "V3        0\n",
              "V4        0\n",
              "V5        0\n",
              "V6        0\n",
              "V7        0\n",
              "V8        0\n",
              "V9        0\n",
              "V10       0\n",
              "V11       0\n",
              "V12       0\n",
              "V13       0\n",
              "V14       0\n",
              "V15       0\n",
              "V16       0\n",
              "V17       0\n",
              "V18       0\n",
              "V19       0\n",
              "V20       0\n",
              "V21       0\n",
              "V22       0\n",
              "V23       0\n",
              "V24       0\n",
              "V25       0\n",
              "V26       0\n",
              "V27       0\n",
              "V28       0\n",
              "Amount    0\n",
              "Class     0\n",
              "dtype: int64"
            ]
          },
          "metadata": {
            "tags": []
          },
          "execution_count": 32
        }
      ]
    },
    {
      "cell_type": "code",
      "metadata": {
        "id": "K_dc2UXFRMTI",
        "colab_type": "code",
        "colab": {
          "base_uri": "https://localhost:8080/",
          "height": 663
        },
        "outputId": "e7d6f7f5-1839-4e99-fb4c-8e8f30a122d1"
      },
      "source": [
        "data.info()"
      ],
      "execution_count": 33,
      "outputs": [
        {
          "output_type": "stream",
          "text": [
            "<class 'pandas.core.frame.DataFrame'>\n",
            "RangeIndex: 284807 entries, 0 to 284806\n",
            "Data columns (total 31 columns):\n",
            " #   Column  Non-Null Count   Dtype  \n",
            "---  ------  --------------   -----  \n",
            " 0   Time    284807 non-null  float64\n",
            " 1   V1      284807 non-null  float64\n",
            " 2   V2      284807 non-null  float64\n",
            " 3   V3      284807 non-null  float64\n",
            " 4   V4      284807 non-null  float64\n",
            " 5   V5      284807 non-null  float64\n",
            " 6   V6      284807 non-null  float64\n",
            " 7   V7      284807 non-null  float64\n",
            " 8   V8      284807 non-null  float64\n",
            " 9   V9      284807 non-null  float64\n",
            " 10  V10     284807 non-null  float64\n",
            " 11  V11     284807 non-null  float64\n",
            " 12  V12     284807 non-null  float64\n",
            " 13  V13     284807 non-null  float64\n",
            " 14  V14     284807 non-null  float64\n",
            " 15  V15     284807 non-null  float64\n",
            " 16  V16     284807 non-null  float64\n",
            " 17  V17     284807 non-null  float64\n",
            " 18  V18     284807 non-null  float64\n",
            " 19  V19     284807 non-null  float64\n",
            " 20  V20     284807 non-null  float64\n",
            " 21  V21     284807 non-null  float64\n",
            " 22  V22     284807 non-null  float64\n",
            " 23  V23     284807 non-null  float64\n",
            " 24  V24     284807 non-null  float64\n",
            " 25  V25     284807 non-null  float64\n",
            " 26  V26     284807 non-null  float64\n",
            " 27  V27     284807 non-null  float64\n",
            " 28  V28     284807 non-null  float64\n",
            " 29  Amount  284807 non-null  float64\n",
            " 30  Class   284807 non-null  int64  \n",
            "dtypes: float64(30), int64(1)\n",
            "memory usage: 67.4 MB\n"
          ],
          "name": "stdout"
        }
      ]
    },
    {
      "cell_type": "code",
      "metadata": {
        "id": "H5IYkhe6RQq0",
        "colab_type": "code",
        "colab": {
          "base_uri": "https://localhost:8080/",
          "height": 68
        },
        "outputId": "8cc6ef27-14bb-4d02-a050-d935b5f46f00"
      },
      "source": [
        "data['Class'].value_counts()"
      ],
      "execution_count": 34,
      "outputs": [
        {
          "output_type": "execute_result",
          "data": {
            "text/plain": [
              "0    284315\n",
              "1       492\n",
              "Name: Class, dtype: int64"
            ]
          },
          "metadata": {
            "tags": []
          },
          "execution_count": 34
        }
      ]
    },
    {
      "cell_type": "markdown",
      "metadata": {
        "id": "NJB_h8a9R59m",
        "colab_type": "text"
      },
      "source": [
        "### Balance Dataset"
      ]
    },
    {
      "cell_type": "code",
      "metadata": {
        "id": "7IieguACSGo_",
        "colab_type": "code",
        "colab": {}
      },
      "source": [
        "non_fraud = data[data['Class']==0]\n",
        "fraud = data[data['Class']==1]"
      ],
      "execution_count": 35,
      "outputs": []
    },
    {
      "cell_type": "code",
      "metadata": {
        "id": "dFT3c-gLSW2P",
        "colab_type": "code",
        "colab": {
          "base_uri": "https://localhost:8080/",
          "height": 34
        },
        "outputId": "0ccd6030-f448-4cf2-e17a-69a425913659"
      },
      "source": [
        "non_fraud.shape, fraud.shape"
      ],
      "execution_count": 12,
      "outputs": [
        {
          "output_type": "execute_result",
          "data": {
            "text/plain": [
              "((284315, 31), (492, 31))"
            ]
          },
          "metadata": {
            "tags": []
          },
          "execution_count": 12
        }
      ]
    },
    {
      "cell_type": "code",
      "metadata": {
        "id": "81MS8qKrSaCJ",
        "colab_type": "code",
        "colab": {
          "base_uri": "https://localhost:8080/",
          "height": 34
        },
        "outputId": "bf493e2c-b833-4f4c-bec2-0d81e432b687"
      },
      "source": [
        "non_fraud = non_fraud.sample(fraud.shape[0])\n",
        "non_fraud.shape"
      ],
      "execution_count": 36,
      "outputs": [
        {
          "output_type": "execute_result",
          "data": {
            "text/plain": [
              "(492, 31)"
            ]
          },
          "metadata": {
            "tags": []
          },
          "execution_count": 36
        }
      ]
    },
    {
      "cell_type": "code",
      "metadata": {
        "id": "PJfJ369fSo5K",
        "colab_type": "code",
        "colab": {
          "base_uri": "https://localhost:8080/",
          "height": 439
        },
        "outputId": "ba647355-962b-4f9b-bc54-7bbedb1ac268"
      },
      "source": [
        "data = fraud.append(non_fraud, ignore_index=True)\n",
        "data"
      ],
      "execution_count": 37,
      "outputs": [
        {
          "output_type": "execute_result",
          "data": {
            "text/html": [
              "<div>\n",
              "<style scoped>\n",
              "    .dataframe tbody tr th:only-of-type {\n",
              "        vertical-align: middle;\n",
              "    }\n",
              "\n",
              "    .dataframe tbody tr th {\n",
              "        vertical-align: top;\n",
              "    }\n",
              "\n",
              "    .dataframe thead th {\n",
              "        text-align: right;\n",
              "    }\n",
              "</style>\n",
              "<table border=\"1\" class=\"dataframe\">\n",
              "  <thead>\n",
              "    <tr style=\"text-align: right;\">\n",
              "      <th></th>\n",
              "      <th>Time</th>\n",
              "      <th>V1</th>\n",
              "      <th>V2</th>\n",
              "      <th>V3</th>\n",
              "      <th>V4</th>\n",
              "      <th>V5</th>\n",
              "      <th>V6</th>\n",
              "      <th>V7</th>\n",
              "      <th>V8</th>\n",
              "      <th>V9</th>\n",
              "      <th>V10</th>\n",
              "      <th>V11</th>\n",
              "      <th>V12</th>\n",
              "      <th>V13</th>\n",
              "      <th>V14</th>\n",
              "      <th>V15</th>\n",
              "      <th>V16</th>\n",
              "      <th>V17</th>\n",
              "      <th>V18</th>\n",
              "      <th>V19</th>\n",
              "      <th>V20</th>\n",
              "      <th>V21</th>\n",
              "      <th>V22</th>\n",
              "      <th>V23</th>\n",
              "      <th>V24</th>\n",
              "      <th>V25</th>\n",
              "      <th>V26</th>\n",
              "      <th>V27</th>\n",
              "      <th>V28</th>\n",
              "      <th>Amount</th>\n",
              "      <th>Class</th>\n",
              "    </tr>\n",
              "  </thead>\n",
              "  <tbody>\n",
              "    <tr>\n",
              "      <th>0</th>\n",
              "      <td>406.0</td>\n",
              "      <td>-2.312227</td>\n",
              "      <td>1.951992</td>\n",
              "      <td>-1.609851</td>\n",
              "      <td>3.997906</td>\n",
              "      <td>-0.522188</td>\n",
              "      <td>-1.426545</td>\n",
              "      <td>-2.537387</td>\n",
              "      <td>1.391657</td>\n",
              "      <td>-2.770089</td>\n",
              "      <td>-2.772272</td>\n",
              "      <td>3.202033</td>\n",
              "      <td>-2.899907</td>\n",
              "      <td>-0.595222</td>\n",
              "      <td>-4.289254</td>\n",
              "      <td>0.389724</td>\n",
              "      <td>-1.140747</td>\n",
              "      <td>-2.830056</td>\n",
              "      <td>-0.016822</td>\n",
              "      <td>0.416956</td>\n",
              "      <td>0.126911</td>\n",
              "      <td>0.517232</td>\n",
              "      <td>-0.035049</td>\n",
              "      <td>-0.465211</td>\n",
              "      <td>0.320198</td>\n",
              "      <td>0.044519</td>\n",
              "      <td>0.177840</td>\n",
              "      <td>0.261145</td>\n",
              "      <td>-0.143276</td>\n",
              "      <td>0.00</td>\n",
              "      <td>1</td>\n",
              "    </tr>\n",
              "    <tr>\n",
              "      <th>1</th>\n",
              "      <td>472.0</td>\n",
              "      <td>-3.043541</td>\n",
              "      <td>-3.157307</td>\n",
              "      <td>1.088463</td>\n",
              "      <td>2.288644</td>\n",
              "      <td>1.359805</td>\n",
              "      <td>-1.064823</td>\n",
              "      <td>0.325574</td>\n",
              "      <td>-0.067794</td>\n",
              "      <td>-0.270953</td>\n",
              "      <td>-0.838587</td>\n",
              "      <td>-0.414575</td>\n",
              "      <td>-0.503141</td>\n",
              "      <td>0.676502</td>\n",
              "      <td>-1.692029</td>\n",
              "      <td>2.000635</td>\n",
              "      <td>0.666780</td>\n",
              "      <td>0.599717</td>\n",
              "      <td>1.725321</td>\n",
              "      <td>0.283345</td>\n",
              "      <td>2.102339</td>\n",
              "      <td>0.661696</td>\n",
              "      <td>0.435477</td>\n",
              "      <td>1.375966</td>\n",
              "      <td>-0.293803</td>\n",
              "      <td>0.279798</td>\n",
              "      <td>-0.145362</td>\n",
              "      <td>-0.252773</td>\n",
              "      <td>0.035764</td>\n",
              "      <td>529.00</td>\n",
              "      <td>1</td>\n",
              "    </tr>\n",
              "    <tr>\n",
              "      <th>2</th>\n",
              "      <td>4462.0</td>\n",
              "      <td>-2.303350</td>\n",
              "      <td>1.759247</td>\n",
              "      <td>-0.359745</td>\n",
              "      <td>2.330243</td>\n",
              "      <td>-0.821628</td>\n",
              "      <td>-0.075788</td>\n",
              "      <td>0.562320</td>\n",
              "      <td>-0.399147</td>\n",
              "      <td>-0.238253</td>\n",
              "      <td>-1.525412</td>\n",
              "      <td>2.032912</td>\n",
              "      <td>-6.560124</td>\n",
              "      <td>0.022937</td>\n",
              "      <td>-1.470102</td>\n",
              "      <td>-0.698826</td>\n",
              "      <td>-2.282194</td>\n",
              "      <td>-4.781831</td>\n",
              "      <td>-2.615665</td>\n",
              "      <td>-1.334441</td>\n",
              "      <td>-0.430022</td>\n",
              "      <td>-0.294166</td>\n",
              "      <td>-0.932391</td>\n",
              "      <td>0.172726</td>\n",
              "      <td>-0.087330</td>\n",
              "      <td>-0.156114</td>\n",
              "      <td>-0.542628</td>\n",
              "      <td>0.039566</td>\n",
              "      <td>-0.153029</td>\n",
              "      <td>239.93</td>\n",
              "      <td>1</td>\n",
              "    </tr>\n",
              "    <tr>\n",
              "      <th>3</th>\n",
              "      <td>6986.0</td>\n",
              "      <td>-4.397974</td>\n",
              "      <td>1.358367</td>\n",
              "      <td>-2.592844</td>\n",
              "      <td>2.679787</td>\n",
              "      <td>-1.128131</td>\n",
              "      <td>-1.706536</td>\n",
              "      <td>-3.496197</td>\n",
              "      <td>-0.248778</td>\n",
              "      <td>-0.247768</td>\n",
              "      <td>-4.801637</td>\n",
              "      <td>4.895844</td>\n",
              "      <td>-10.912819</td>\n",
              "      <td>0.184372</td>\n",
              "      <td>-6.771097</td>\n",
              "      <td>-0.007326</td>\n",
              "      <td>-7.358083</td>\n",
              "      <td>-12.598419</td>\n",
              "      <td>-5.131549</td>\n",
              "      <td>0.308334</td>\n",
              "      <td>-0.171608</td>\n",
              "      <td>0.573574</td>\n",
              "      <td>0.176968</td>\n",
              "      <td>-0.436207</td>\n",
              "      <td>-0.053502</td>\n",
              "      <td>0.252405</td>\n",
              "      <td>-0.657488</td>\n",
              "      <td>-0.827136</td>\n",
              "      <td>0.849573</td>\n",
              "      <td>59.00</td>\n",
              "      <td>1</td>\n",
              "    </tr>\n",
              "    <tr>\n",
              "      <th>4</th>\n",
              "      <td>7519.0</td>\n",
              "      <td>1.234235</td>\n",
              "      <td>3.019740</td>\n",
              "      <td>-4.304597</td>\n",
              "      <td>4.732795</td>\n",
              "      <td>3.624201</td>\n",
              "      <td>-1.357746</td>\n",
              "      <td>1.713445</td>\n",
              "      <td>-0.496358</td>\n",
              "      <td>-1.282858</td>\n",
              "      <td>-2.447469</td>\n",
              "      <td>2.101344</td>\n",
              "      <td>-4.609628</td>\n",
              "      <td>1.464378</td>\n",
              "      <td>-6.079337</td>\n",
              "      <td>-0.339237</td>\n",
              "      <td>2.581851</td>\n",
              "      <td>6.739384</td>\n",
              "      <td>3.042493</td>\n",
              "      <td>-2.721853</td>\n",
              "      <td>0.009061</td>\n",
              "      <td>-0.379068</td>\n",
              "      <td>-0.704181</td>\n",
              "      <td>-0.656805</td>\n",
              "      <td>-1.632653</td>\n",
              "      <td>1.488901</td>\n",
              "      <td>0.566797</td>\n",
              "      <td>-0.010016</td>\n",
              "      <td>0.146793</td>\n",
              "      <td>1.00</td>\n",
              "      <td>1</td>\n",
              "    </tr>\n",
              "    <tr>\n",
              "      <th>...</th>\n",
              "      <td>...</td>\n",
              "      <td>...</td>\n",
              "      <td>...</td>\n",
              "      <td>...</td>\n",
              "      <td>...</td>\n",
              "      <td>...</td>\n",
              "      <td>...</td>\n",
              "      <td>...</td>\n",
              "      <td>...</td>\n",
              "      <td>...</td>\n",
              "      <td>...</td>\n",
              "      <td>...</td>\n",
              "      <td>...</td>\n",
              "      <td>...</td>\n",
              "      <td>...</td>\n",
              "      <td>...</td>\n",
              "      <td>...</td>\n",
              "      <td>...</td>\n",
              "      <td>...</td>\n",
              "      <td>...</td>\n",
              "      <td>...</td>\n",
              "      <td>...</td>\n",
              "      <td>...</td>\n",
              "      <td>...</td>\n",
              "      <td>...</td>\n",
              "      <td>...</td>\n",
              "      <td>...</td>\n",
              "      <td>...</td>\n",
              "      <td>...</td>\n",
              "      <td>...</td>\n",
              "      <td>...</td>\n",
              "    </tr>\n",
              "    <tr>\n",
              "      <th>979</th>\n",
              "      <td>149446.0</td>\n",
              "      <td>-0.683721</td>\n",
              "      <td>1.033575</td>\n",
              "      <td>0.284595</td>\n",
              "      <td>-0.924654</td>\n",
              "      <td>0.552492</td>\n",
              "      <td>-0.477303</td>\n",
              "      <td>0.988876</td>\n",
              "      <td>-0.036501</td>\n",
              "      <td>0.014347</td>\n",
              "      <td>0.111738</td>\n",
              "      <td>0.323448</td>\n",
              "      <td>-0.021692</td>\n",
              "      <td>-1.300739</td>\n",
              "      <td>0.417348</td>\n",
              "      <td>-0.864590</td>\n",
              "      <td>0.069761</td>\n",
              "      <td>-0.678975</td>\n",
              "      <td>-0.074760</td>\n",
              "      <td>0.373073</td>\n",
              "      <td>-0.075927</td>\n",
              "      <td>-0.235839</td>\n",
              "      <td>-0.466694</td>\n",
              "      <td>-0.020378</td>\n",
              "      <td>-0.432283</td>\n",
              "      <td>-0.697902</td>\n",
              "      <td>0.065207</td>\n",
              "      <td>-0.378721</td>\n",
              "      <td>-0.288885</td>\n",
              "      <td>12.01</td>\n",
              "      <td>0</td>\n",
              "    </tr>\n",
              "    <tr>\n",
              "      <th>980</th>\n",
              "      <td>43339.0</td>\n",
              "      <td>-0.569779</td>\n",
              "      <td>0.873334</td>\n",
              "      <td>1.633288</td>\n",
              "      <td>-0.129139</td>\n",
              "      <td>0.106527</td>\n",
              "      <td>-0.237896</td>\n",
              "      <td>0.531100</td>\n",
              "      <td>0.202413</td>\n",
              "      <td>-0.686599</td>\n",
              "      <td>-0.194221</td>\n",
              "      <td>1.718616</td>\n",
              "      <td>0.843967</td>\n",
              "      <td>-0.010128</td>\n",
              "      <td>0.363888</td>\n",
              "      <td>0.376943</td>\n",
              "      <td>0.039223</td>\n",
              "      <td>-0.296603</td>\n",
              "      <td>-0.378471</td>\n",
              "      <td>-0.134558</td>\n",
              "      <td>0.112937</td>\n",
              "      <td>-0.123478</td>\n",
              "      <td>-0.326600</td>\n",
              "      <td>0.054079</td>\n",
              "      <td>0.206074</td>\n",
              "      <td>-0.314312</td>\n",
              "      <td>0.070200</td>\n",
              "      <td>0.273265</td>\n",
              "      <td>0.111561</td>\n",
              "      <td>12.99</td>\n",
              "      <td>0</td>\n",
              "    </tr>\n",
              "    <tr>\n",
              "      <th>981</th>\n",
              "      <td>126120.0</td>\n",
              "      <td>-1.152904</td>\n",
              "      <td>-0.703079</td>\n",
              "      <td>0.194790</td>\n",
              "      <td>-1.287161</td>\n",
              "      <td>-0.173478</td>\n",
              "      <td>0.472457</td>\n",
              "      <td>1.941155</td>\n",
              "      <td>-0.333344</td>\n",
              "      <td>-2.145876</td>\n",
              "      <td>-0.272054</td>\n",
              "      <td>-1.434628</td>\n",
              "      <td>-0.170387</td>\n",
              "      <td>2.121225</td>\n",
              "      <td>-0.163380</td>\n",
              "      <td>0.491393</td>\n",
              "      <td>-1.424047</td>\n",
              "      <td>-0.461813</td>\n",
              "      <td>1.561990</td>\n",
              "      <td>-0.309638</td>\n",
              "      <td>0.683979</td>\n",
              "      <td>0.079762</td>\n",
              "      <td>0.000680</td>\n",
              "      <td>0.384565</td>\n",
              "      <td>0.071219</td>\n",
              "      <td>1.007088</td>\n",
              "      <td>0.993216</td>\n",
              "      <td>-0.159873</td>\n",
              "      <td>0.077162</td>\n",
              "      <td>399.00</td>\n",
              "      <td>0</td>\n",
              "    </tr>\n",
              "    <tr>\n",
              "      <th>982</th>\n",
              "      <td>62547.0</td>\n",
              "      <td>0.449235</td>\n",
              "      <td>-1.505626</td>\n",
              "      <td>-0.348394</td>\n",
              "      <td>0.289857</td>\n",
              "      <td>-1.020463</td>\n",
              "      <td>-0.802084</td>\n",
              "      <td>0.511205</td>\n",
              "      <td>-0.183955</td>\n",
              "      <td>0.501788</td>\n",
              "      <td>-0.420565</td>\n",
              "      <td>-0.252491</td>\n",
              "      <td>-0.474347</td>\n",
              "      <td>-1.904248</td>\n",
              "      <td>0.641974</td>\n",
              "      <td>0.613996</td>\n",
              "      <td>-0.520937</td>\n",
              "      <td>0.616098</td>\n",
              "      <td>-1.092948</td>\n",
              "      <td>-0.182665</td>\n",
              "      <td>0.606725</td>\n",
              "      <td>0.175873</td>\n",
              "      <td>-0.346464</td>\n",
              "      <td>-0.341414</td>\n",
              "      <td>0.484550</td>\n",
              "      <td>0.134023</td>\n",
              "      <td>1.442620</td>\n",
              "      <td>-0.196137</td>\n",
              "      <td>0.054989</td>\n",
              "      <td>418.00</td>\n",
              "      <td>0</td>\n",
              "    </tr>\n",
              "    <tr>\n",
              "      <th>983</th>\n",
              "      <td>25143.0</td>\n",
              "      <td>1.306569</td>\n",
              "      <td>0.174795</td>\n",
              "      <td>-1.155129</td>\n",
              "      <td>-0.276324</td>\n",
              "      <td>2.209799</td>\n",
              "      <td>3.230041</td>\n",
              "      <td>-0.592484</td>\n",
              "      <td>0.723275</td>\n",
              "      <td>1.210416</td>\n",
              "      <td>-0.589868</td>\n",
              "      <td>1.079189</td>\n",
              "      <td>-2.534904</td>\n",
              "      <td>1.651989</td>\n",
              "      <td>1.322640</td>\n",
              "      <td>0.563053</td>\n",
              "      <td>0.784085</td>\n",
              "      <td>0.236950</td>\n",
              "      <td>0.440678</td>\n",
              "      <td>-0.029328</td>\n",
              "      <td>-0.002367</td>\n",
              "      <td>-0.490749</td>\n",
              "      <td>-1.336859</td>\n",
              "      <td>0.103513</td>\n",
              "      <td>0.885300</td>\n",
              "      <td>0.345121</td>\n",
              "      <td>0.071599</td>\n",
              "      <td>-0.049327</td>\n",
              "      <td>0.017923</td>\n",
              "      <td>5.99</td>\n",
              "      <td>0</td>\n",
              "    </tr>\n",
              "  </tbody>\n",
              "</table>\n",
              "<p>984 rows × 31 columns</p>\n",
              "</div>"
            ],
            "text/plain": [
              "         Time        V1        V2        V3  ...       V27       V28  Amount  Class\n",
              "0       406.0 -2.312227  1.951992 -1.609851  ...  0.261145 -0.143276    0.00      1\n",
              "1       472.0 -3.043541 -3.157307  1.088463  ... -0.252773  0.035764  529.00      1\n",
              "2      4462.0 -2.303350  1.759247 -0.359745  ...  0.039566 -0.153029  239.93      1\n",
              "3      6986.0 -4.397974  1.358367 -2.592844  ... -0.827136  0.849573   59.00      1\n",
              "4      7519.0  1.234235  3.019740 -4.304597  ... -0.010016  0.146793    1.00      1\n",
              "..        ...       ...       ...       ...  ...       ...       ...     ...    ...\n",
              "979  149446.0 -0.683721  1.033575  0.284595  ... -0.378721 -0.288885   12.01      0\n",
              "980   43339.0 -0.569779  0.873334  1.633288  ...  0.273265  0.111561   12.99      0\n",
              "981  126120.0 -1.152904 -0.703079  0.194790  ... -0.159873  0.077162  399.00      0\n",
              "982   62547.0  0.449235 -1.505626 -0.348394  ... -0.196137  0.054989  418.00      0\n",
              "983   25143.0  1.306569  0.174795 -1.155129  ... -0.049327  0.017923    5.99      0\n",
              "\n",
              "[984 rows x 31 columns]"
            ]
          },
          "metadata": {
            "tags": []
          },
          "execution_count": 37
        }
      ]
    },
    {
      "cell_type": "code",
      "metadata": {
        "id": "PkxjdhXeSzJh",
        "colab_type": "code",
        "colab": {
          "base_uri": "https://localhost:8080/",
          "height": 68
        },
        "outputId": "96a02ba2-d889-45c4-862b-320f77b299ba"
      },
      "source": [
        "data['Class'].value_counts()"
      ],
      "execution_count": 38,
      "outputs": [
        {
          "output_type": "execute_result",
          "data": {
            "text/plain": [
              "1    492\n",
              "0    492\n",
              "Name: Class, dtype: int64"
            ]
          },
          "metadata": {
            "tags": []
          },
          "execution_count": 38
        }
      ]
    },
    {
      "cell_type": "code",
      "metadata": {
        "id": "DF2nGBg4S_na",
        "colab_type": "code",
        "colab": {}
      },
      "source": [
        "X = data.drop(\"Class\", axis = 1)\n",
        "y = data['Class']"
      ],
      "execution_count": 39,
      "outputs": []
    },
    {
      "cell_type": "code",
      "metadata": {
        "id": "2N-gix-Vi-C5",
        "colab_type": "code",
        "colab": {}
      },
      "source": [
        "X_train, X_test, y_train, y_test = train_test_split(X, y, test_size = 0.2, random_state = 0, stratify = y)"
      ],
      "execution_count": 40,
      "outputs": []
    },
    {
      "cell_type": "code",
      "metadata": {
        "id": "tjUvX4_Yjc6g",
        "colab_type": "code",
        "colab": {
          "base_uri": "https://localhost:8080/",
          "height": 34
        },
        "outputId": "52fb6a1e-09f6-45b6-9033-4e06fbf3af42"
      },
      "source": [
        "X_train.shape, X_test.shape"
      ],
      "execution_count": 41,
      "outputs": [
        {
          "output_type": "execute_result",
          "data": {
            "text/plain": [
              "((787, 30), (197, 30))"
            ]
          },
          "metadata": {
            "tags": []
          },
          "execution_count": 41
        }
      ]
    },
    {
      "cell_type": "code",
      "metadata": {
        "id": "CW5PJwcIjpLD",
        "colab_type": "code",
        "colab": {}
      },
      "source": [
        "# Avoids overfitting\n",
        "scaler = StandardScaler()\n",
        "X_train = scaler.fit_transform(X_train)\n",
        "X_test = scaler.transform(X_test)"
      ],
      "execution_count": 42,
      "outputs": []
    },
    {
      "cell_type": "code",
      "metadata": {
        "id": "1zBbHYL9juC4",
        "colab_type": "code",
        "colab": {}
      },
      "source": [
        "y_train = y_train.to_numpy()\n",
        "y_test = y_test.to_numpy()"
      ],
      "execution_count": 43,
      "outputs": []
    },
    {
      "cell_type": "code",
      "metadata": {
        "id": "ZEnXvSCAs2Nw",
        "colab_type": "code",
        "colab": {
          "base_uri": "https://localhost:8080/",
          "height": 34
        },
        "outputId": "8f6415cb-28a2-4219-b38a-c0cc8a0aea73"
      },
      "source": [
        "X_train.shape"
      ],
      "execution_count": 44,
      "outputs": [
        {
          "output_type": "execute_result",
          "data": {
            "text/plain": [
              "(787, 30)"
            ]
          },
          "metadata": {
            "tags": []
          },
          "execution_count": 44
        }
      ]
    },
    {
      "cell_type": "code",
      "metadata": {
        "id": "rybLc9FylfDU",
        "colab_type": "code",
        "colab": {}
      },
      "source": [
        "X_train = X_train.reshape(X_train.shape[0], X_train.shape[1], 1)\n",
        "X_test = X_test.reshape(X_test.shape[0], X_test.shape[1], 1)"
      ],
      "execution_count": 45,
      "outputs": []
    },
    {
      "cell_type": "code",
      "metadata": {
        "id": "gAKgFMrBrcMM",
        "colab_type": "code",
        "colab": {
          "base_uri": "https://localhost:8080/",
          "height": 34
        },
        "outputId": "445c4757-a3e6-4ebc-ad1e-7a49b47d45ae"
      },
      "source": [
        "X_train.shape, X_test.shape"
      ],
      "execution_count": 47,
      "outputs": [
        {
          "output_type": "execute_result",
          "data": {
            "text/plain": [
              "((787, 30, 1), (197, 30, 1))"
            ]
          },
          "metadata": {
            "tags": []
          },
          "execution_count": 47
        }
      ]
    },
    {
      "cell_type": "markdown",
      "metadata": {
        "id": "SGKtcXuNv3BG",
        "colab_type": "text"
      },
      "source": [
        "# Building the CNN"
      ]
    },
    {
      "cell_type": "code",
      "metadata": {
        "id": "O0bu-xSuv-aB",
        "colab_type": "code",
        "colab": {}
      },
      "source": [
        "epochs = 20\n",
        "model = Sequential()\n",
        "# First Layer\n",
        "model.add(Conv1D(32, 2, activation=\"relu\", input_shape = X_train[0].shape))\n",
        "model.add(BatchNormalization())\n",
        "model.add(Dropout(0.2))\n",
        "\n",
        "# Second Layer\n",
        "model.add(Conv1D(64, 2, activation=\"relu\"))\n",
        "model.add(BatchNormalization())\n",
        "model.add(Dropout(0.5))\n",
        "\n",
        "# Third Layer\n",
        "model.add(Flatten())\n",
        "model.add(Dense(64, activation=\"relu\"))\n",
        "model.add(Dropout(0.5))\n",
        "\n",
        "# Output Layer \n",
        "model.add(Dense(1, activation=\"sigmoid\"))"
      ],
      "execution_count": 48,
      "outputs": []
    },
    {
      "cell_type": "code",
      "metadata": {
        "id": "JGICNUg4xhpO",
        "colab_type": "code",
        "colab": {
          "base_uri": "https://localhost:8080/",
          "height": 493
        },
        "outputId": "b6e8af4d-c579-4f44-83f4-7771e8651ce3"
      },
      "source": [
        "model.summary()"
      ],
      "execution_count": 49,
      "outputs": [
        {
          "output_type": "stream",
          "text": [
            "Model: \"sequential\"\n",
            "_________________________________________________________________\n",
            "Layer (type)                 Output Shape              Param #   \n",
            "=================================================================\n",
            "conv1d (Conv1D)              (None, 29, 32)            96        \n",
            "_________________________________________________________________\n",
            "batch_normalization (BatchNo (None, 29, 32)            128       \n",
            "_________________________________________________________________\n",
            "dropout (Dropout)            (None, 29, 32)            0         \n",
            "_________________________________________________________________\n",
            "conv1d_1 (Conv1D)            (None, 28, 64)            4160      \n",
            "_________________________________________________________________\n",
            "batch_normalization_1 (Batch (None, 28, 64)            256       \n",
            "_________________________________________________________________\n",
            "dropout_1 (Dropout)          (None, 28, 64)            0         \n",
            "_________________________________________________________________\n",
            "flatten (Flatten)            (None, 1792)              0         \n",
            "_________________________________________________________________\n",
            "dense (Dense)                (None, 64)                114752    \n",
            "_________________________________________________________________\n",
            "dropout_2 (Dropout)          (None, 64)                0         \n",
            "_________________________________________________________________\n",
            "dense_1 (Dense)              (None, 1)                 65        \n",
            "=================================================================\n",
            "Total params: 119,457\n",
            "Trainable params: 119,265\n",
            "Non-trainable params: 192\n",
            "_________________________________________________________________\n"
          ],
          "name": "stdout"
        }
      ]
    },
    {
      "cell_type": "code",
      "metadata": {
        "id": "SIi0dB_sxm_J",
        "colab_type": "code",
        "colab": {}
      },
      "source": [
        "model.compile(optimizer=Adam(lr=0.0001), loss = \"binary_crossentropy\", metrics=['accuracy'])"
      ],
      "execution_count": 51,
      "outputs": []
    },
    {
      "cell_type": "code",
      "metadata": {
        "id": "tgLAkm9EyUhd",
        "colab_type": "code",
        "colab": {
          "base_uri": "https://localhost:8080/",
          "height": 697
        },
        "outputId": "84ec7345-3063-4eff-c53f-56c71251fcaa"
      },
      "source": [
        "history = model.fit(X_train, y_train, epochs=epochs, validation_data=(X_test, y_test), verbose=1)"
      ],
      "execution_count": 52,
      "outputs": [
        {
          "output_type": "stream",
          "text": [
            "Epoch 1/20\n",
            "25/25 [==============================] - 0s 18ms/step - loss: 0.7763 - accuracy: 0.6887 - val_loss: 0.6258 - val_accuracy: 0.8325\n",
            "Epoch 2/20\n",
            "25/25 [==============================] - 0s 9ms/step - loss: 0.5113 - accuracy: 0.8081 - val_loss: 0.5818 - val_accuracy: 0.8579\n",
            "Epoch 3/20\n",
            "25/25 [==============================] - 0s 9ms/step - loss: 0.3935 - accuracy: 0.8577 - val_loss: 0.5441 - val_accuracy: 0.8782\n",
            "Epoch 4/20\n",
            "25/25 [==============================] - 0s 9ms/step - loss: 0.3892 - accuracy: 0.8615 - val_loss: 0.5028 - val_accuracy: 0.8782\n",
            "Epoch 5/20\n",
            "25/25 [==============================] - 0s 10ms/step - loss: 0.3372 - accuracy: 0.8818 - val_loss: 0.4641 - val_accuracy: 0.8985\n",
            "Epoch 6/20\n",
            "25/25 [==============================] - 0s 9ms/step - loss: 0.3073 - accuracy: 0.8996 - val_loss: 0.4326 - val_accuracy: 0.9086\n",
            "Epoch 7/20\n",
            "25/25 [==============================] - 0s 9ms/step - loss: 0.2905 - accuracy: 0.8907 - val_loss: 0.4004 - val_accuracy: 0.9188\n",
            "Epoch 8/20\n",
            "25/25 [==============================] - 0s 9ms/step - loss: 0.3028 - accuracy: 0.8869 - val_loss: 0.3611 - val_accuracy: 0.9137\n",
            "Epoch 9/20\n",
            "25/25 [==============================] - 0s 9ms/step - loss: 0.2798 - accuracy: 0.9060 - val_loss: 0.3322 - val_accuracy: 0.9086\n",
            "Epoch 10/20\n",
            "25/25 [==============================] - 0s 9ms/step - loss: 0.2822 - accuracy: 0.9098 - val_loss: 0.3026 - val_accuracy: 0.9188\n",
            "Epoch 11/20\n",
            "25/25 [==============================] - 0s 10ms/step - loss: 0.2758 - accuracy: 0.9161 - val_loss: 0.2820 - val_accuracy: 0.9137\n",
            "Epoch 12/20\n",
            "25/25 [==============================] - 0s 9ms/step - loss: 0.2258 - accuracy: 0.9225 - val_loss: 0.2591 - val_accuracy: 0.9137\n",
            "Epoch 13/20\n",
            "25/25 [==============================] - 0s 9ms/step - loss: 0.2100 - accuracy: 0.9288 - val_loss: 0.2414 - val_accuracy: 0.9137\n",
            "Epoch 14/20\n",
            "25/25 [==============================] - 0s 9ms/step - loss: 0.2451 - accuracy: 0.9187 - val_loss: 0.2253 - val_accuracy: 0.9137\n",
            "Epoch 15/20\n",
            "25/25 [==============================] - 0s 9ms/step - loss: 0.2234 - accuracy: 0.9238 - val_loss: 0.2190 - val_accuracy: 0.9188\n",
            "Epoch 16/20\n",
            "25/25 [==============================] - 0s 9ms/step - loss: 0.1729 - accuracy: 0.9339 - val_loss: 0.2096 - val_accuracy: 0.9239\n",
            "Epoch 17/20\n",
            "25/25 [==============================] - 0s 9ms/step - loss: 0.2090 - accuracy: 0.9136 - val_loss: 0.2036 - val_accuracy: 0.9188\n",
            "Epoch 18/20\n",
            "25/25 [==============================] - 0s 9ms/step - loss: 0.2133 - accuracy: 0.9161 - val_loss: 0.1981 - val_accuracy: 0.9188\n",
            "Epoch 19/20\n",
            "25/25 [==============================] - 0s 9ms/step - loss: 0.2045 - accuracy: 0.9288 - val_loss: 0.1940 - val_accuracy: 0.9239\n",
            "Epoch 20/20\n",
            "25/25 [==============================] - 0s 10ms/step - loss: 0.1973 - accuracy: 0.9314 - val_loss: 0.1886 - val_accuracy: 0.9239\n"
          ],
          "name": "stdout"
        }
      ]
    },
    {
      "cell_type": "code",
      "metadata": {
        "id": "gcecQX53ynrX",
        "colab_type": "code",
        "colab": {}
      },
      "source": [
        "def plot_learningCurve(history, epoch):\n",
        "  # Plot training & validation accuracy values\n",
        "  epoch_range = range(1, epoch + 1)\n",
        "  plt.plot(epoch_range, history.history['accuracy'])\n",
        "  plt.plot(epoch_range, history.history['val_accuracy'])\n",
        "  plt.title('Model accuracy')\n",
        "  plt.xlabel('Epoch')\n",
        "  plt.ylabel('Accuracy')\n",
        "  plt.legend(['Train', 'Val'], loc='upper left')\n",
        "  plt.show()\n",
        "\n",
        "  # Plot training & validation loss values\n",
        "  plt.plot(epoch_range, history.history['loss'])\n",
        "  plt.plot(epoch_range, history.history['val_loss'])\n",
        "  plt.title('Model loss')\n",
        "  plt.xlabel('Epoch')\n",
        "  plt.ylabel('Loss')\n",
        "  plt.legend(['Train', 'Val'], loc='upper left')\n",
        "  plt.show()"
      ],
      "execution_count": 57,
      "outputs": []
    },
    {
      "cell_type": "code",
      "metadata": {
        "id": "h3pMumJt3ICT",
        "colab_type": "code",
        "colab": {
          "base_uri": "https://localhost:8080/",
          "height": 573
        },
        "outputId": "c8f6e577-3e81-4151-b607-013c4bafd5ea"
      },
      "source": [
        "plot_learningCurve(history, epochs)"
      ],
      "execution_count": 58,
      "outputs": [
        {
          "output_type": "display_data",
          "data": {
            "image/png": "[encoded data removed]",
            "text/plain": [
              "<Figure size 432x288 with 1 Axes>"
            ]
          },
          "metadata": {
            "tags": [],
            "needs_background": "light"
          }
        },
        {
          "output_type": "display_data",
          "data": {
            "image/png": "[encoded data removed]",
            "text/plain": [
              "<Figure size 432x288 with 1 Axes>"
            ]
          },
          "metadata": {
            "tags": [],
            "needs_background": "light"
          }
        }
      ]
    },
    {
      "cell_type": "markdown",
      "metadata": {
        "id": "VLcoHA5j3tUo",
        "colab_type": "text"
      },
      "source": [
        "# Adding MaxPool"
      ]
    },
    {
      "cell_type": "code",
      "metadata": {
        "id": "wBAezz9K3yEs",
        "colab_type": "code",
        "colab": {}
      },
      "source": [
        "epochs = 50\n",
        "model = Sequential()\n",
        "# First Layer\n",
        "model.add(Conv1D(32, 2, activation=\"relu\", input_shape = X_train[0].shape))\n",
        "model.add(BatchNormalization())\n",
        "model.add(MaxPool1D(2))\n",
        "model.add(Dropout(0.2))\n",
        "\n",
        "# Second Layer\n",
        "model.add(Conv1D(64, 2, activation=\"relu\"))\n",
        "model.add(BatchNormalization())\n",
        "model.add(MaxPool1D(2))\n",
        "model.add(Dropout(0.5))\n",
        "\n",
        "# Third Layer\n",
        "model.add(Flatten())\n",
        "model.add(Dense(64, activation=\"relu\"))\n",
        "model.add(Dropout(0.5))\n",
        "\n",
        "# Output Layer \n",
        "model.add(Dense(1, activation=\"sigmoid\"))"
      ],
      "execution_count": 61,
      "outputs": []
    },
    {
      "cell_type": "code",
      "metadata": {
        "id": "BC3Bg4vU31df",
        "colab_type": "code",
        "colab": {
          "base_uri": "https://localhost:8080/",
          "height": 1000
        },
        "outputId": "381f5296-74ef-4333-c73c-98dc5cae28a6"
      },
      "source": [
        "model.compile(optimizer=Adam(lr=0.0001), loss = \"binary_crossentropy\", metrics=['accuracy'])\n",
        "history = model.fit(X_train, y_train, epochs=epochs, validation_data=(X_test, y_test), verbose=1)\n",
        "plot_learningCurve(history, epochs)"
      ],
      "execution_count": 62,
      "outputs": [
        {
          "output_type": "stream",
          "text": [
            "Epoch 1/50\n",
            "25/25 [==============================] - 0s 11ms/step - loss: 1.2011 - accuracy: 0.5197 - val_loss: 0.6798 - val_accuracy: 0.5482\n",
            "Epoch 2/50\n",
            "25/25 [==============================] - 0s 6ms/step - loss: 0.8935 - accuracy: 0.6074 - val_loss: 0.6448 - val_accuracy: 0.6802\n",
            "Epoch 3/50\n",
            "25/25 [==============================] - 0s 7ms/step - loss: 0.8133 - accuracy: 0.6544 - val_loss: 0.6174 - val_accuracy: 0.6599\n",
            "Epoch 4/50\n",
            "25/25 [==============================] - 0s 8ms/step - loss: 0.7302 - accuracy: 0.7065 - val_loss: 0.5925 - val_accuracy: 0.6497\n",
            "Epoch 5/50\n",
            "25/25 [==============================] - 0s 7ms/step - loss: 0.6752 - accuracy: 0.7344 - val_loss: 0.5709 - val_accuracy: 0.6548\n",
            "Epoch 6/50\n",
            "25/25 [==============================] - 0s 6ms/step - loss: 0.5296 - accuracy: 0.7738 - val_loss: 0.5485 - val_accuracy: 0.6650\n",
            "Epoch 7/50\n",
            "25/25 [==============================] - 0s 7ms/step - loss: 0.5208 - accuracy: 0.7967 - val_loss: 0.5257 - val_accuracy: 0.6904\n",
            "Epoch 8/50\n",
            "25/25 [==============================] - 0s 7ms/step - loss: 0.5085 - accuracy: 0.7967 - val_loss: 0.4992 - val_accuracy: 0.7157\n",
            "Epoch 9/50\n",
            "25/25 [==============================] - 0s 7ms/step - loss: 0.4586 - accuracy: 0.8259 - val_loss: 0.4715 - val_accuracy: 0.7360\n",
            "Epoch 10/50\n",
            "25/25 [==============================] - 0s 7ms/step - loss: 0.4640 - accuracy: 0.8221 - val_loss: 0.4430 - val_accuracy: 0.7716\n",
            "Epoch 11/50\n",
            "25/25 [==============================] - 0s 7ms/step - loss: 0.4299 - accuracy: 0.8272 - val_loss: 0.4155 - val_accuracy: 0.7868\n",
            "Epoch 12/50\n",
            "25/25 [==============================] - 0s 7ms/step - loss: 0.4145 - accuracy: 0.8348 - val_loss: 0.3891 - val_accuracy: 0.8274\n",
            "Epoch 13/50\n",
            "25/25 [==============================] - 0s 6ms/step - loss: 0.3909 - accuracy: 0.8513 - val_loss: 0.3655 - val_accuracy: 0.8680\n",
            "Epoch 14/50\n",
            "25/25 [==============================] - 0s 7ms/step - loss: 0.3719 - accuracy: 0.8666 - val_loss: 0.3451 - val_accuracy: 0.8731\n",
            "Epoch 15/50\n",
            "25/25 [==============================] - 0s 7ms/step - loss: 0.3351 - accuracy: 0.8666 - val_loss: 0.3284 - val_accuracy: 0.8782\n",
            "Epoch 16/50\n",
            "25/25 [==============================] - 0s 7ms/step - loss: 0.3626 - accuracy: 0.8767 - val_loss: 0.3135 - val_accuracy: 0.8832\n",
            "Epoch 17/50\n",
            "25/25 [==============================] - 0s 6ms/step - loss: 0.3136 - accuracy: 0.8755 - val_loss: 0.3037 - val_accuracy: 0.8832\n",
            "Epoch 18/50\n",
            "25/25 [==============================] - 0s 7ms/step - loss: 0.3082 - accuracy: 0.8767 - val_loss: 0.2960 - val_accuracy: 0.8832\n",
            "Epoch 19/50\n",
            "25/25 [==============================] - 0s 7ms/step - loss: 0.3205 - accuracy: 0.8869 - val_loss: 0.2904 - val_accuracy: 0.8832\n",
            "Epoch 20/50\n",
            "25/25 [==============================] - 0s 7ms/step - loss: 0.3283 - accuracy: 0.8856 - val_loss: 0.2826 - val_accuracy: 0.8832\n",
            "Epoch 21/50\n",
            "25/25 [==============================] - 0s 7ms/step - loss: 0.3211 - accuracy: 0.8806 - val_loss: 0.2763 - val_accuracy: 0.9086\n",
            "Epoch 22/50\n",
            "25/25 [==============================] - 0s 6ms/step - loss: 0.3224 - accuracy: 0.8806 - val_loss: 0.2738 - val_accuracy: 0.9086\n",
            "Epoch 23/50\n",
            "25/25 [==============================] - 0s 7ms/step - loss: 0.3014 - accuracy: 0.8945 - val_loss: 0.2710 - val_accuracy: 0.9137\n",
            "Epoch 24/50\n",
            "25/25 [==============================] - 0s 7ms/step - loss: 0.2759 - accuracy: 0.8983 - val_loss: 0.2690 - val_accuracy: 0.9137\n",
            "Epoch 25/50\n",
            "25/25 [==============================] - 0s 7ms/step - loss: 0.2899 - accuracy: 0.8882 - val_loss: 0.2692 - val_accuracy: 0.9188\n",
            "Epoch 26/50\n",
            "25/25 [==============================] - 0s 7ms/step - loss: 0.2870 - accuracy: 0.9034 - val_loss: 0.2655 - val_accuracy: 0.9188\n",
            "Epoch 27/50\n",
            "25/25 [==============================] - 0s 7ms/step - loss: 0.2793 - accuracy: 0.9047 - val_loss: 0.2622 - val_accuracy: 0.9239\n",
            "Epoch 28/50\n",
            "25/25 [==============================] - 0s 6ms/step - loss: 0.2953 - accuracy: 0.8869 - val_loss: 0.2636 - val_accuracy: 0.9239\n",
            "Epoch 29/50\n",
            "25/25 [==============================] - 0s 6ms/step - loss: 0.2531 - accuracy: 0.9098 - val_loss: 0.2652 - val_accuracy: 0.9239\n",
            "Epoch 30/50\n",
            "25/25 [==============================] - 0s 6ms/step - loss: 0.2922 - accuracy: 0.9047 - val_loss: 0.2626 - val_accuracy: 0.9239\n",
            "Epoch 31/50\n",
            "25/25 [==============================] - 0s 6ms/step - loss: 0.2869 - accuracy: 0.9098 - val_loss: 0.2655 - val_accuracy: 0.9239\n",
            "Epoch 32/50\n",
            "25/25 [==============================] - 0s 7ms/step - loss: 0.2917 - accuracy: 0.8945 - val_loss: 0.2617 - val_accuracy: 0.9239\n",
            "Epoch 33/50\n",
            "25/25 [==============================] - 0s 7ms/step - loss: 0.2515 - accuracy: 0.8983 - val_loss: 0.2615 - val_accuracy: 0.9239\n",
            "Epoch 34/50\n",
            "25/25 [==============================] - 0s 6ms/step - loss: 0.2923 - accuracy: 0.9047 - val_loss: 0.2607 - val_accuracy: 0.9239\n",
            "Epoch 35/50\n",
            "25/25 [==============================] - 0s 6ms/step - loss: 0.2665 - accuracy: 0.9136 - val_loss: 0.2626 - val_accuracy: 0.9239\n",
            "Epoch 36/50\n",
            "25/25 [==============================] - 0s 6ms/step - loss: 0.2310 - accuracy: 0.9136 - val_loss: 0.2601 - val_accuracy: 0.9188\n",
            "Epoch 37/50\n",
            "25/25 [==============================] - 0s 6ms/step - loss: 0.2274 - accuracy: 0.9111 - val_loss: 0.2579 - val_accuracy: 0.9239\n",
            "Epoch 38/50\n",
            "25/25 [==============================] - 0s 6ms/step - loss: 0.2289 - accuracy: 0.9199 - val_loss: 0.2569 - val_accuracy: 0.9239\n",
            "Epoch 39/50\n",
            "25/25 [==============================] - 0s 7ms/step - loss: 0.2421 - accuracy: 0.9149 - val_loss: 0.2560 - val_accuracy: 0.9188\n",
            "Epoch 40/50\n",
            "25/25 [==============================] - 0s 6ms/step - loss: 0.2280 - accuracy: 0.9199 - val_loss: 0.2543 - val_accuracy: 0.9188\n",
            "Epoch 41/50\n",
            "25/25 [==============================] - 0s 7ms/step - loss: 0.2467 - accuracy: 0.9060 - val_loss: 0.2515 - val_accuracy: 0.9188\n",
            "Epoch 42/50\n",
            "25/25 [==============================] - 0s 6ms/step - loss: 0.2395 - accuracy: 0.9072 - val_loss: 0.2490 - val_accuracy: 0.9188\n",
            "Epoch 43/50\n",
            "25/25 [==============================] - 0s 6ms/step - loss: 0.2356 - accuracy: 0.9276 - val_loss: 0.2485 - val_accuracy: 0.9188\n",
            "Epoch 44/50\n",
            "25/25 [==============================] - 0s 7ms/step - loss: 0.2607 - accuracy: 0.9136 - val_loss: 0.2465 - val_accuracy: 0.9188\n",
            "Epoch 45/50\n",
            "25/25 [==============================] - 0s 7ms/step - loss: 0.2649 - accuracy: 0.9072 - val_loss: 0.2480 - val_accuracy: 0.9188\n",
            "Epoch 46/50\n",
            "25/25 [==============================] - 0s 6ms/step - loss: 0.2609 - accuracy: 0.9238 - val_loss: 0.2481 - val_accuracy: 0.9188\n",
            "Epoch 47/50\n",
            "25/25 [==============================] - 0s 7ms/step - loss: 0.2763 - accuracy: 0.9111 - val_loss: 0.2502 - val_accuracy: 0.9188\n",
            "Epoch 48/50\n",
            "25/25 [==============================] - 0s 7ms/step - loss: 0.2227 - accuracy: 0.9288 - val_loss: 0.2509 - val_accuracy: 0.9188\n",
            "Epoch 49/50\n",
            "25/25 [==============================] - 0s 7ms/step - loss: 0.2427 - accuracy: 0.9161 - val_loss: 0.2527 - val_accuracy: 0.9137\n",
            "Epoch 50/50\n",
            "25/25 [==============================] - 0s 8ms/step - loss: 0.2240 - accuracy: 0.9301 - val_loss: 0.2515 - val_accuracy: 0.9137\n"
          ],
          "name": "stdout"
        },
        {
          "output_type": "display_data",
          "data": {
            "image/png": "[encoded data removed]",
            "text/plain": [
              "<Figure size 432x288 with 1 Axes>"
            ]
          },
          "metadata": {
            "tags": [],
            "needs_background": "light"
          }
        },
        {
          "output_type": "display_data",
          "data": {
            "image/png": "[encoded data removed]",
            "text/plain": [
              "<Figure size 432x288 with 1 Axes>"
            ]
          },
          "metadata": {
            "tags": [],
            "needs_background": "light"
          }
        }
      ]
    }
  ]
}